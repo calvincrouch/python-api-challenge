{
 "cells": [
  {
   "cell_type": "markdown",
   "metadata": {},
   "source": [
    "# VacationPy\n",
    "----\n",
    "\n",
    "#### Note\n",
    "* Keep an eye on your API usage. Use https://developers.google.com/maps/reporting/gmp-reporting as reference for how to monitor your usage and billing.\n",
    "\n",
    "* Instructions have been included for each segment. You do not have to follow them exactly, but they are included to help you think through the steps."
   ]
  },
  {
   "cell_type": "code",
   "execution_count": 12,
   "metadata": {},
   "outputs": [],
   "source": [
    "# Dependencies and Setup\n",
    "import matplotlib.pyplot as plt\n",
    "import pandas as pd\n",
    "import numpy as np\n",
    "import requests\n",
    "import gmaps\n",
    "import os\n",
    "\n",
    "# Import API key\n",
    "from api_keys import g_key"
   ]
  },
  {
   "cell_type": "markdown",
   "metadata": {},
   "source": [
    "### Store Part I results into DataFrame\n",
    "* Load the csv exported in Part I to a DataFrame"
   ]
  },
  {
   "cell_type": "code",
   "execution_count": 30,
   "metadata": {},
   "outputs": [
    {
     "data": {
      "text/html": [
       "<div>\n",
       "<style scoped>\n",
       "    .dataframe tbody tr th:only-of-type {\n",
       "        vertical-align: middle;\n",
       "    }\n",
       "\n",
       "    .dataframe tbody tr th {\n",
       "        vertical-align: top;\n",
       "    }\n",
       "\n",
       "    .dataframe thead th {\n",
       "        text-align: right;\n",
       "    }\n",
       "</style>\n",
       "<table border=\"1\" class=\"dataframe\">\n",
       "  <thead>\n",
       "    <tr style=\"text-align: right;\">\n",
       "      <th></th>\n",
       "      <th>City</th>\n",
       "      <th>Lat</th>\n",
       "      <th>Lng</th>\n",
       "      <th>Max Temp</th>\n",
       "      <th>Humidity</th>\n",
       "      <th>Cloudiness</th>\n",
       "      <th>Wind Speed</th>\n",
       "      <th>Country</th>\n",
       "      <th>Date</th>\n",
       "    </tr>\n",
       "  </thead>\n",
       "  <tbody>\n",
       "    <tr>\n",
       "      <th>0</th>\n",
       "      <td>hermanus</td>\n",
       "      <td>-34.4187</td>\n",
       "      <td>19.2345</td>\n",
       "      <td>16.67</td>\n",
       "      <td>86</td>\n",
       "      <td>100</td>\n",
       "      <td>0.39</td>\n",
       "      <td>ZA</td>\n",
       "      <td>1619373128</td>\n",
       "    </tr>\n",
       "    <tr>\n",
       "      <th>1</th>\n",
       "      <td>port alfred</td>\n",
       "      <td>-33.5906</td>\n",
       "      <td>26.8910</td>\n",
       "      <td>21.47</td>\n",
       "      <td>71</td>\n",
       "      <td>98</td>\n",
       "      <td>6.88</td>\n",
       "      <td>ZA</td>\n",
       "      <td>1619373427</td>\n",
       "    </tr>\n",
       "    <tr>\n",
       "      <th>2</th>\n",
       "      <td>bluff</td>\n",
       "      <td>-46.6000</td>\n",
       "      <td>168.3333</td>\n",
       "      <td>5.56</td>\n",
       "      <td>84</td>\n",
       "      <td>78</td>\n",
       "      <td>2.68</td>\n",
       "      <td>NZ</td>\n",
       "      <td>1619373110</td>\n",
       "    </tr>\n",
       "    <tr>\n",
       "      <th>3</th>\n",
       "      <td>dwarka</td>\n",
       "      <td>22.2394</td>\n",
       "      <td>68.9678</td>\n",
       "      <td>27.96</td>\n",
       "      <td>78</td>\n",
       "      <td>0</td>\n",
       "      <td>7.21</td>\n",
       "      <td>IN</td>\n",
       "      <td>1619373431</td>\n",
       "    </tr>\n",
       "    <tr>\n",
       "      <th>4</th>\n",
       "      <td>qaanaaq</td>\n",
       "      <td>77.4840</td>\n",
       "      <td>-69.3632</td>\n",
       "      <td>-0.15</td>\n",
       "      <td>73</td>\n",
       "      <td>80</td>\n",
       "      <td>1.61</td>\n",
       "      <td>GL</td>\n",
       "      <td>1619373342</td>\n",
       "    </tr>\n",
       "    <tr>\n",
       "      <th>...</th>\n",
       "      <td>...</td>\n",
       "      <td>...</td>\n",
       "      <td>...</td>\n",
       "      <td>...</td>\n",
       "      <td>...</td>\n",
       "      <td>...</td>\n",
       "      <td>...</td>\n",
       "      <td>...</td>\n",
       "      <td>...</td>\n",
       "    </tr>\n",
       "    <tr>\n",
       "      <th>470</th>\n",
       "      <td>hargeysa</td>\n",
       "      <td>9.5600</td>\n",
       "      <td>44.0650</td>\n",
       "      <td>21.98</td>\n",
       "      <td>69</td>\n",
       "      <td>88</td>\n",
       "      <td>3.83</td>\n",
       "      <td>SO</td>\n",
       "      <td>1619374058</td>\n",
       "    </tr>\n",
       "    <tr>\n",
       "      <th>471</th>\n",
       "      <td>vieux-habitants</td>\n",
       "      <td>16.0589</td>\n",
       "      <td>-61.7659</td>\n",
       "      <td>30.00</td>\n",
       "      <td>58</td>\n",
       "      <td>75</td>\n",
       "      <td>7.20</td>\n",
       "      <td>GP</td>\n",
       "      <td>1619374059</td>\n",
       "    </tr>\n",
       "    <tr>\n",
       "      <th>472</th>\n",
       "      <td>toamasina</td>\n",
       "      <td>-18.1667</td>\n",
       "      <td>49.3833</td>\n",
       "      <td>23.00</td>\n",
       "      <td>94</td>\n",
       "      <td>75</td>\n",
       "      <td>2.57</td>\n",
       "      <td>MG</td>\n",
       "      <td>1619374061</td>\n",
       "    </tr>\n",
       "    <tr>\n",
       "      <th>473</th>\n",
       "      <td>palmer</td>\n",
       "      <td>42.1584</td>\n",
       "      <td>-72.3287</td>\n",
       "      <td>12.00</td>\n",
       "      <td>76</td>\n",
       "      <td>90</td>\n",
       "      <td>2.57</td>\n",
       "      <td>US</td>\n",
       "      <td>1619374062</td>\n",
       "    </tr>\n",
       "    <tr>\n",
       "      <th>474</th>\n",
       "      <td>boda</td>\n",
       "      <td>4.3189</td>\n",
       "      <td>17.4695</td>\n",
       "      <td>23.55</td>\n",
       "      <td>77</td>\n",
       "      <td>83</td>\n",
       "      <td>2.05</td>\n",
       "      <td>CF</td>\n",
       "      <td>1619374063</td>\n",
       "    </tr>\n",
       "  </tbody>\n",
       "</table>\n",
       "<p>475 rows × 9 columns</p>\n",
       "</div>"
      ],
      "text/plain": [
       "                City      Lat       Lng  Max Temp  Humidity  Cloudiness  \\\n",
       "0           hermanus -34.4187   19.2345     16.67        86         100   \n",
       "1        port alfred -33.5906   26.8910     21.47        71          98   \n",
       "2              bluff -46.6000  168.3333      5.56        84          78   \n",
       "3             dwarka  22.2394   68.9678     27.96        78           0   \n",
       "4            qaanaaq  77.4840  -69.3632     -0.15        73          80   \n",
       "..               ...      ...       ...       ...       ...         ...   \n",
       "470         hargeysa   9.5600   44.0650     21.98        69          88   \n",
       "471  vieux-habitants  16.0589  -61.7659     30.00        58          75   \n",
       "472        toamasina -18.1667   49.3833     23.00        94          75   \n",
       "473           palmer  42.1584  -72.3287     12.00        76          90   \n",
       "474             boda   4.3189   17.4695     23.55        77          83   \n",
       "\n",
       "     Wind Speed Country        Date  \n",
       "0          0.39      ZA  1619373128  \n",
       "1          6.88      ZA  1619373427  \n",
       "2          2.68      NZ  1619373110  \n",
       "3          7.21      IN  1619373431  \n",
       "4          1.61      GL  1619373342  \n",
       "..          ...     ...         ...  \n",
       "470        3.83      SO  1619374058  \n",
       "471        7.20      GP  1619374059  \n",
       "472        2.57      MG  1619374061  \n",
       "473        2.57      US  1619374062  \n",
       "474        2.05      CF  1619374063  \n",
       "\n",
       "[475 rows x 9 columns]"
      ]
     },
     "execution_count": 30,
     "metadata": {},
     "output_type": "execute_result"
    }
   ],
   "source": [
    "\n",
    "cities_csv_path = \"../WeatherPy/cities.csv\"\n",
    "\n",
    "# Import the data into a Pandas DataFrame\n",
    "cities_df = pd.read_csv(cities_csv_path, index_col='Unnamed: 0')\n",
    "cities_df\n"
   ]
  },
  {
   "cell_type": "markdown",
   "metadata": {},
   "source": [
    "### Humidity Heatmap\n",
    "* Configure gmaps.\n",
    "* Use the Lat and Lng as locations and Humidity as the weight.\n",
    "* Add Heatmap layer to map."
   ]
  },
  {
   "cell_type": "code",
   "execution_count": 31,
   "metadata": {},
   "outputs": [],
   "source": [
    "\n",
    "gmaps.configure(api_key=g_key)\n",
    "\n",
    "# Store 'Lat' and 'Lng' into locations\n",
    "locations = cities_df[[\"Lat\", \"Lng\"]].astype(float)\n",
    "\n",
    "# Store 'Humidity' as list\n",
    "humidity = cities_df[\"Humidity\"].astype(float)\n"
   ]
  },
  {
   "cell_type": "code",
   "execution_count": 32,
   "metadata": {},
   "outputs": [
    {
     "data": {
      "application/vnd.jupyter.widget-view+json": {
       "model_id": "5e148356a5e44e33b503fa81a683ee42",
       "version_major": 2,
       "version_minor": 0
      },
      "text/plain": [
       "Figure(layout=FigureLayout(height='420px'))"
      ]
     },
     "metadata": {},
     "output_type": "display_data"
    }
   ],
   "source": [
    "fig = gmaps.figure(zoom_level=2, center=(16.276737, 1.482970))\n",
    "\n",
    "heat_layer = gmaps.heatmap_layer(locations, weights=humidity,\n",
    "                                 dissipating=False, max_intensity=100,\n",
    "                                 point_radius=4)\n",
    "\n",
    "fig.add_layer(heat_layer)\n",
    "\n",
    "fig"
   ]
  },
  {
   "cell_type": "markdown",
   "metadata": {},
   "source": [
    "### Create new DataFrame fitting weather criteria\n",
    "* Narrow down the cities to fit weather conditions.\n",
    "* Drop any rows will null values."
   ]
  },
  {
   "cell_type": "code",
   "execution_count": 33,
   "metadata": {
    "scrolled": true
   },
   "outputs": [
    {
     "data": {
      "text/html": [
       "<div>\n",
       "<style scoped>\n",
       "    .dataframe tbody tr th:only-of-type {\n",
       "        vertical-align: middle;\n",
       "    }\n",
       "\n",
       "    .dataframe tbody tr th {\n",
       "        vertical-align: top;\n",
       "    }\n",
       "\n",
       "    .dataframe thead th {\n",
       "        text-align: right;\n",
       "    }\n",
       "</style>\n",
       "<table border=\"1\" class=\"dataframe\">\n",
       "  <thead>\n",
       "    <tr style=\"text-align: right;\">\n",
       "      <th></th>\n",
       "      <th>City</th>\n",
       "      <th>Lat</th>\n",
       "      <th>Lng</th>\n",
       "      <th>Max Temp</th>\n",
       "      <th>Humidity</th>\n",
       "      <th>Cloudiness</th>\n",
       "      <th>Wind Speed</th>\n",
       "      <th>Country</th>\n",
       "      <th>Date</th>\n",
       "    </tr>\n",
       "  </thead>\n",
       "  <tbody>\n",
       "  </tbody>\n",
       "</table>\n",
       "</div>"
      ],
      "text/plain": [
       "Empty DataFrame\n",
       "Columns: [City, Lat, Lng, Max Temp, Humidity, Cloudiness, Wind Speed, Country, Date]\n",
       "Index: []"
      ]
     },
     "execution_count": 33,
     "metadata": {},
     "output_type": "execute_result"
    }
   ],
   "source": [
    "\n",
    "# Drop cities with max temperature 80 degrees or higher\n",
    "new_df = cities_df.loc[(cities_df[\"Max Temp\"] < 80)]\n",
    "\n",
    "# Drop cities with max teperature lower than 70 degrees\n",
    "new_df = new_df.loc[(new_df[\"Max Temp\"] > 70)]\n",
    "\n",
    "# Drop cities with wind speed 10 mph or greater\n",
    "new_df = new_df.loc[(new_df[\"Wind Speed\"] < 10)]\n",
    "\n",
    "# Drop cities with cloudiness greater than 0\n",
    "new_df = new_df.loc[(new_df[\"Cloudiness\"] == 0)]\n",
    "new_df"
   ]
  },
  {
   "cell_type": "markdown",
   "metadata": {},
   "source": [
    "### Hotel Map\n",
    "* Store into variable named `hotel_df`.\n",
    "* Add a \"Hotel Name\" column to the DataFrame.\n",
    "* Set parameters to search for hotels with 5000 meters.\n",
    "* Hit the Google Places API for each city's coordinates.\n",
    "* Store the first Hotel result into the DataFrame.\n",
    "* Plot markers on top of the heatmap."
   ]
  },
  {
   "cell_type": "code",
   "execution_count": 34,
   "metadata": {},
   "outputs": [],
   "source": [
    "hotel_df = new_df\n",
    "\n",
    "\n",
    "hotel_df[\"Hotel Name\"] = \"\"\n",
    "hotel_df\n",
    "\n",
    "# Set parameters to search for hotels within 5000 meters\n",
    "params = {\n",
    "    \"radius\": 5000,\n",
    "    \"types\": \"lodging\",\n",
    "    \"key\": g_key\n",
    "}\n",
    "\n",
    "for index, row in hotel_df.iterrows():\n",
    "    \n",
    "\n",
    "    lat = row[\"Lat\"]\n",
    "    lng = row[\"Lng\"]\n",
    "    \n",
    "    # Change location each iteration while leaving origional params in place\n",
    "    params[\"location\"] = f\"{lat},{lng}\"\n",
    "    \n",
    "    # URL\n",
    "    base_url = \"https://maps.googleapis.com/maps/api/place/nearbysearch/json\"\n",
    "\n",
    "    hotel_name = requests.get(base_url, params=params)\n",
    "    \n",
    "    # Convert to json\n",
    "    hotel_name = hotel_name.json()\n",
    "    \n",
    "    # try-except to skip any missing data\n",
    "    try:\n",
    "        hotel_df.loc[index, \"Hotel Name\"] = hotel_name[\"results\"][0][\"name\"]\n",
    "    except:\n",
    "        print(\"Missin field/result ... skipping\")\n"
   ]
  },
  {
   "cell_type": "code",
   "execution_count": null,
   "metadata": {},
   "outputs": [],
   "source": []
  },
  {
   "cell_type": "code",
   "execution_count": 35,
   "metadata": {},
   "outputs": [],
   "source": [
    "# NOTE: Do not change any of the code in this cell\n",
    "\n",
    "# Using the template add the hotel marks to the heatmap\n",
    "info_box_template = \"\"\"\n",
    "<dl>\n",
    "<dt>Name</dt><dd>{Hotel Name}</dd>\n",
    "<dt>City</dt><dd>{City}</dd>\n",
    "<dt>Country</dt><dd>{Country}</dd>\n",
    "</dl>\n",
    "\"\"\"\n",
    "# Store the DataFrame Row\n",
    "# NOTE: be sure to update with your DataFrame name\n",
    "hotel_info = [info_box_template.format(**row) for index, row in hotel_df.iterrows()]\n",
    "locations = hotel_df[[\"Lat\", \"Lng\"]]"
   ]
  },
  {
   "cell_type": "code",
   "execution_count": 36,
   "metadata": {},
   "outputs": [
    {
     "data": {
      "application/vnd.jupyter.widget-view+json": {
       "model_id": "dbbe03a30f98457a8549ad59cae5333b",
       "version_major": 2,
       "version_minor": 0
      },
      "text/plain": [
       "Figure(layout=FigureLayout(height='420px'))"
      ]
     },
     "metadata": {},
     "output_type": "display_data"
    }
   ],
   "source": [
    "marker_layer = gmaps.marker_layer(locations, info_box_content= hotel_info)\n",
    "\n",
    "fig = gmaps.figure(zoom_level=2, center=(16.276737, 1.482970))\n",
    "fig.add_layer(heat_layer)\n",
    "fig.add_layer(marker_layer)\n",
    "\n",
    "fig"
   ]
  },
  {
   "cell_type": "code",
   "execution_count": null,
   "metadata": {},
   "outputs": [],
   "source": []
  },
  {
   "cell_type": "code",
   "execution_count": null,
   "metadata": {},
   "outputs": [],
   "source": []
  },
  {
   "cell_type": "code",
   "execution_count": null,
   "metadata": {},
   "outputs": [],
   "source": []
  }
 ],
 "metadata": {
  "kernelspec": {
   "display_name": "Python 3",
   "language": "python",
   "name": "python3"
  },
  "language_info": {
   "codemirror_mode": {
    "name": "ipython",
    "version": 3
   },
   "file_extension": ".py",
   "mimetype": "text/x-python",
   "name": "python",
   "nbconvert_exporter": "python",
   "pygments_lexer": "ipython3",
   "version": "3.6.10"
  },
  "latex_envs": {
   "LaTeX_envs_menu_present": true,
   "autoclose": false,
   "autocomplete": true,
   "bibliofile": "biblio.bib",
   "cite_by": "apalike",
   "current_citInitial": 1,
   "eqLabelWithNumbers": true,
   "eqNumInitial": 1,
   "hotkeys": {
    "equation": "Ctrl-E",
    "itemize": "Ctrl-I"
   },
   "labels_anchors": false,
   "latex_user_defs": false,
   "report_style_numbering": false,
   "user_envs_cfg": false
  }
 },
 "nbformat": 4,
 "nbformat_minor": 4
}
